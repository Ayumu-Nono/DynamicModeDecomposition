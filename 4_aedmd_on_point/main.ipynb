{
 "cells": [
  {
   "cell_type": "code",
   "execution_count": 95,
   "source": [
    "import numpy as np\n",
    "import pandas as pd\n",
    "from numpy import pi, exp, log\n",
    "from numpy import dot, multiply, diag, power\n",
    "from numpy.linalg import inv, eig, pinv\n",
    "import matplotlib.pyplot as plt"
   ],
   "outputs": [],
   "metadata": {}
  },
  {
   "cell_type": "code",
   "execution_count": 96,
   "source": [
    "# 実際のデータを用いてやってみる\n",
    "df = pd.read_csv(\"data/dynamics/p.csv\")\n",
    "# 最初のデータ10個は死んでる\n",
    "df = df[10:]\n",
    "\n",
    "F = df[\"point1\"].values\n",
    "\n",
    "def normalize(x):\n",
    "\t\"\"\"1次元\"\"\"\n",
    "\tmu = np.mean(x)\n",
    "\ts = np.std(x)\n",
    "\treturn (x - mu) / s\n",
    "\n",
    "# 真の値\n",
    "# 正規化\n",
    "F = normalize(F)\n",
    "N = len(F)\n",
    "print(\"N:\", N)\n",
    "t_raw = np.linspace(0, 1, N)\n",
    "dt = t_raw[2] - t_raw[1]"
   ],
   "outputs": [
    {
     "output_type": "stream",
     "name": "stdout",
     "text": [
      "N: 67\n"
     ]
    }
   ],
   "metadata": {}
  },
  {
   "cell_type": "code",
   "execution_count": 97,
   "source": [
    "# 前処理(Hanakel行列化)\n",
    "# N: 時系列の長さ, L: 任意のwinidowの大きさ, Nの半分以下にしないといけない\n",
    "L = 30\n",
    "K = N - L + 1\n",
    "D = np.column_stack([F[i : i + L] for i in range(0, K)])\n",
    "D.shape # (1windowに格納されている状態ベクトルの数, スナップショットの数)\n",
    "\n",
    "X = D[:, :-1]  # スナップショット群1\n",
    "Y = D[:, 1:]  # スナップショット群2\n",
    "t = np.arange(0, K - 1)  # スナップショット群に対するtime"
   ],
   "outputs": [],
   "metadata": {}
  },
  {
   "cell_type": "code",
   "execution_count": 98,
   "source": [
    "def dmd(X, Y, r):\n",
    "\tU2, Sig2, Vh2 = np.linalg.svd(X)\n",
    "\t# 寄与率\n",
    "\tsigma_sumsq = (Sig2 ** 2).sum()\n",
    "\tcumlative_contrib = (Sig2[:r] ** 2).cumsum() / sigma_sumsq * 100\n",
    "\tcontrib = (Sig2[:r] ** 2) / sigma_sumsq * 100\n",
    "\n",
    "\tU = U2[:,:r]\n",
    "\tSig = diag(Sig2)[:r,:r]  # 対角行列を作って、それのrランク\n",
    "\tV = Vh2.conj().T[:,:r]  # conjは共役複素数\n",
    "\n",
    "\tAtil = dot(dot(dot(U.conj().T, Y), V), inv(Sig))\n",
    "\tmu, W = eig(Atil)  # 固有値と固有ベクトルを作成\n",
    "\n",
    "\t# 時間発展\n",
    "\tPhi = dot(dot(dot(Y, V), inv(Sig)), W)\n",
    "\tb = dot(pinv(Phi), X[:, 0])\n",
    "\tPsi = np.zeros([r, len(t)], dtype=\"complex\")\n",
    "\tfor idx, mu_elem in enumerate(mu):\n",
    "\t\tfor _k in t:\n",
    "\t\t\tPsi[idx, _k] = exp(log(mu_elem) / dt * _k * dt) * b[idx]\n",
    "\n",
    "\t# 評価関数\n",
    "\tDb = diag(b)\n",
    "\tVand = np.array([mu**i for i in range(0, K-1)]).T\n",
    "\tJ = np.linalg.norm(X - np.dot(Phi, np.dot(Db, Vand)), \"fro\")\n",
    "\n",
    "\n",
    "\t# Compute DMD reconstruction for each mode\n",
    "\tx_t_list = []\n",
    "\tfor idx, mu_elem in enumerate(mu):\n",
    "\t\tx_t = []\n",
    "\t\tfor t_ in t:\n",
    "\t\t\tx_t.append(Phi[:, idx] * exp(log(mu_elem) / dt * t_ * dt) * b[idx])\n",
    "\t\tx_t = np.array(x_t).T\n",
    "\t\tx_t_list.append(x_t)\n",
    "\t\t# x_t_listには各モードの時間発展がかくのうされている\n",
    "\n",
    "\tdef X_to_TS(x_t):\n",
    "\t\tx0 = x_t[:, 0]\n",
    "\t\tx1 = x_t[-1, 1:]\n",
    "\t\tts = np.concatenate([x0, x1], 0)\n",
    "\t\treturn ts\n",
    "\n",
    "\n",
    "\n",
    "\t# Convert Hankel matrix to time-series\n",
    "\tx_t_recon = []\n",
    "\tfor x_t in x_t_list:\n",
    "\t\tx_t_recon.append(X_to_TS(x_t))\n",
    "\tx_t_recon = np.array(x_t_recon)\n",
    "\tF_recon = x_t_recon.sum(axis=0)\n",
    "\n",
    "\treturn F_recon, b, J, contrib"
   ],
   "outputs": [],
   "metadata": {}
  },
  {
   "cell_type": "code",
   "execution_count": 110,
   "source": [
    "ranks = np.arange(1, 30, 1, dtype=np.int16)\n",
    "results = [dmd(X=X, Y=Y, r=r) for r in ranks]\n",
    "\n",
    "Fs = np.array([result[0] for result in results])  # (rank, time)\n",
    "bs = [result[1] for result in results]  # (rank, mode) \n",
    "Js = [result[2] for result in results]  # (rank)\n",
    "sum_contribs = [np.sum(result[3]) for result in results]  # (rank, mode)\n",
    "\n",
    "g1s = [np.sum(np.abs(b)) for b in bs]  # (rank)\n",
    "g2s = [np.sum(np.abs(b)**2) for b in bs]  # (rank)\n",
    "\n",
    "# hyper-parameter\n",
    "gamma1 = 0.2\n",
    "gamma2 = 0.3\n",
    "eta = 1\n",
    "\n",
    "i_ranks = range(len(ranks))\n",
    "evals = [Js[i] + gamma1 * g1s[i] + gamma2 * g2s[i] for i in i_ranks]\n",
    "evals = np.array(evals)\n",
    "i_min_eval = np.argmin(evals)\n",
    "evals"
   ],
   "outputs": [
    {
     "output_type": "execute_result",
     "data": {
      "text/plain": [
       "array([48.33810605, 18.04296584, 24.99554032, 21.84624716, 22.04681608,\n",
       "       18.15165484, 22.17459886, 22.49725144, 26.07348492, 17.27260205,\n",
       "       22.25329862, 20.23820753, 22.61736084, 23.89156357, 18.43215078,\n",
       "       18.3249802 , 17.44939424, 20.48876634, 31.44230725, 22.34520315,\n",
       "       26.66849724, 26.44546106, 28.37614539, 27.22070092, 27.91860195,\n",
       "       25.2540704 , 25.68933291, 23.13275802, 25.91232192])"
      ]
     },
     "metadata": {},
     "execution_count": 110
    }
   ],
   "metadata": {}
  },
  {
   "cell_type": "code",
   "execution_count": 100,
   "source": [
    "plt.plot(range(len(F_recon)), F_recon)\n",
    "plt.plot(range(len(F)), F)"
   ],
   "outputs": [
    {
     "output_type": "stream",
     "name": "stderr",
     "text": [
      "/home/ayumu/Documents/MAZIN/DynamicModeDecomposition/myvenv/lib/python3.8/site-packages/matplotlib/cbook/__init__.py:1333: ComplexWarning: Casting complex values to real discards the imaginary part\n",
      "  return np.asarray(x, float)\n"
     ]
    },
    {
     "output_type": "execute_result",
     "data": {
      "text/plain": [
       "[<matplotlib.lines.Line2D at 0x7f6d82409a90>]"
      ]
     },
     "metadata": {},
     "execution_count": 100
    },
    {
     "output_type": "display_data",
     "data": {
      "image/png": "[encoded data removed]",
      "text/plain": [
       "<Figure size 432x288 with 1 Axes>"
      ]
     },
     "metadata": {
      "needs_background": "light"
     }
    }
   ],
   "metadata": {}
  },
  {
   "cell_type": "code",
   "execution_count": null,
   "source": [],
   "outputs": [],
   "metadata": {}
  }
 ],
 "metadata": {
  "orig_nbformat": 4,
  "language_info": {
   "name": "python",
   "version": "3.8.10",
   "mimetype": "text/x-python",
   "codemirror_mode": {
    "name": "ipython",
    "version": 3
   },
   "pygments_lexer": "ipython3",
   "nbconvert_exporter": "python",
   "file_extension": ".py"
  },
  "kernelspec": {
   "name": "python3",
   "display_name": "Python 3.8.10 64-bit ('myvenv': venv)"
  },
  "interpreter": {
   "hash": "6148af855cbcf9e2df66fdeed63ab0efc3d5b6db63238479d3acd299de0d7c1f"
  }
 },
 "nbformat": 4,
 "nbformat_minor": 2
}