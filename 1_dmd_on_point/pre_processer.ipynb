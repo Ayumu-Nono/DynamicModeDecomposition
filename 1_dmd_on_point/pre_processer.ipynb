{
 "cells": [
  {
   "cell_type": "code",
   "execution_count": 2,
   "source": [
    "import os\n",
    "from glob import glob\n",
    "import re\n",
    "import pandas as pd\n",
    "import numpy as np"
   ],
   "outputs": [],
   "metadata": {}
  },
  {
   "cell_type": "code",
   "execution_count": 3,
   "source": [
    "pathes = glob(\"data/datasets/*csv\")\n",
    "pathes = sorted(pathes, key=lambda s: int(re.search(r'\\d+', s).group()))\n",
    "dfs = [pd.read_csv(path) for path in pathes]\n",
    "df_dirnames = pd.read_csv(\"data/dirnames_df.csv\")"
   ],
   "outputs": [],
   "metadata": {}
  },
  {
   "cell_type": "code",
   "execution_count": 10,
   "source": [
    "xs = df_dirnames[\"time\"]\n",
    "indexes = range(len(xs))\n",
    "df = pd.DataFrame(indexes, columns=[\"indexes\"])\n",
    "df[\"time\"] = xs\n",
    "\n",
    "# いろんな点\n",
    "for i in range(0, 100):\n",
    "\tys = [df.loc[i, \"p\"] for df in dfs]\n",
    "\tdf[\"point{0}\".format(i)] = ys\n",
    "df.to_csv(\"data/dynamics/p.csv\")"
   ],
   "outputs": [
    {
     "output_type": "stream",
     "name": "stderr",
     "text": [
      "/tmp/ipykernel_55082/1131503565.py:9: PerformanceWarning: DataFrame is highly fragmented.  This is usually the result of calling `frame.insert` many times, which has poor performance.  Consider joining all columns at once using pd.concat(axis=1) instead.  To get a de-fragmented frame, use `newframe = frame.copy()`\n",
      "  df[\"point{0}\".format(i)] = ys\n"
     ]
    }
   ],
   "metadata": {}
  },
  {
   "cell_type": "code",
   "execution_count": null,
   "source": [],
   "outputs": [],
   "metadata": {}
  }
 ],
 "metadata": {
  "orig_nbformat": 4,
  "language_info": {
   "name": "python",
   "version": "3.8.10",
   "mimetype": "text/x-python",
   "codemirror_mode": {
    "name": "ipython",
    "version": 3
   },
   "pygments_lexer": "ipython3",
   "nbconvert_exporter": "python",
   "file_extension": ".py"
  },
  "kernelspec": {
   "name": "python3",
   "display_name": "Python 3.8.10 64-bit ('myvenv': venv)"
  },
  "interpreter": {
   "hash": "6148af855cbcf9e2df66fdeed63ab0efc3d5b6db63238479d3acd299de0d7c1f"
  }
 },
 "nbformat": 4,
 "nbformat_minor": 2
}